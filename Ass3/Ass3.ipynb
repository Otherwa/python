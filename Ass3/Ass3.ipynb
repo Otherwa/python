{
 "cells": [
  {
   "cell_type": "markdown",
   "metadata": {},
   "source": [
    "1. WAPP to create a tuple of your favorite fruits.\n",
    "     - Print the tuple.\n",
    "     - Access and print individual elements of the tuple.\n",
    "     - Attempt to modify an element in the tuple and observe the error.\n",
    "     - Calculate and print the length of the tuple."
   ]
  },
  {
   "cell_type": "code",
   "execution_count": 3,
   "metadata": {},
   "outputs": [
    {
     "name": "stdout",
     "output_type": "stream",
     "text": [
      "myTup => ('Apple', 'Kiwi', 'Dragon Fruit')\n",
      "my ele at idx 2 => Dragon Fruit\n",
      "my ele at idx 1 => Kiwi\n",
      "myTup lenght => 3\n"
     ]
    },
    {
     "ename": "TypeError",
     "evalue": "'tuple' object does not support item assignment",
     "output_type": "error",
     "traceback": [
      "\u001b[1;31m---------------------------------------------------------------------------\u001b[0m",
      "\u001b[1;31mTypeError\u001b[0m                                 Traceback (most recent call last)",
      "\u001b[1;32mc:\\Users\\athar\\OneDrive\\Desktop\\MCA_TEST_ENV\\python\\Ass3\\Ass3.ipynb Cell 2\u001b[0m line \u001b[0;36m<module>\u001b[1;34m\u001b[0m\n\u001b[0;32m     <a href='vscode-notebook-cell:/c%3A/Users/athar/OneDrive/Desktop/MCA_TEST_ENV/python/Ass3/Ass3.ipynb#W2sZmlsZQ%3D%3D?line=9'>10</a>\u001b[0m \u001b[39mprint\u001b[39m(\u001b[39mf\u001b[39m\u001b[39m'\u001b[39m\u001b[39mmyTup lenght => \u001b[39m\u001b[39m{\u001b[39;00m\u001b[39mlen\u001b[39m(myTup)\u001b[39m}\u001b[39;00m\u001b[39m'\u001b[39m)\n\u001b[0;32m     <a href='vscode-notebook-cell:/c%3A/Users/athar/OneDrive/Desktop/MCA_TEST_ENV/python/Ass3/Ass3.ipynb#W2sZmlsZQ%3D%3D?line=12'>13</a>\u001b[0m \u001b[39m# attemp to modify\u001b[39;00m\n\u001b[1;32m---> <a href='vscode-notebook-cell:/c%3A/Users/athar/OneDrive/Desktop/MCA_TEST_ENV/python/Ass3/Ass3.ipynb#W2sZmlsZQ%3D%3D?line=13'>14</a>\u001b[0m myTup[\u001b[39m1\u001b[39m] \u001b[39m=\u001b[39m \u001b[39m\"\u001b[39m\u001b[39mMango\u001b[39m\u001b[39m\"\u001b[39m \u001b[39m# Throws Error\u001b[39;00m\n\u001b[0;32m     <a href='vscode-notebook-cell:/c%3A/Users/athar/OneDrive/Desktop/MCA_TEST_ENV/python/Ass3/Ass3.ipynb#W2sZmlsZQ%3D%3D?line=14'>15</a>\u001b[0m \u001b[39mprint\u001b[39m(\u001b[39mf\u001b[39m\u001b[39m'\u001b[39m\u001b[39mmyTup => \u001b[39m\u001b[39m{\u001b[39;00mmyTup\u001b[39m}\u001b[39;00m\u001b[39m'\u001b[39m)\n",
      "\u001b[1;31mTypeError\u001b[0m: 'tuple' object does not support item assignment"
     ]
    }
   ],
   "source": [
    "myTup = ('Apple','Kiwi','Dragon Fruit')\n",
    "\n",
    "print(f'myTup => {myTup}')\n",
    "\n",
    "# accessing ele\n",
    "print(f'my ele at idx 2 => {myTup[2]}')\n",
    "print(f'my ele at idx 1 => {myTup[1]}')\n",
    "\n",
    "# len of the tuple\n",
    "print(f'myTup lenght => {len(myTup)}')\n",
    "\n",
    "\n",
    "# attemp to modify\n",
    "myTup[1] = \"Mango\" # Throws Error\n",
    "print(f'myTup => {myTup}')\n"
   ]
  },
  {
   "cell_type": "markdown",
   "metadata": {},
   "source": [
    "2. WAPP to create a tuple containing a student's name and their scores in three subjects (e.g., (\"Alice\", 90, 85, 92)).\n",
    "     - Use tuple unpacking to extract and print the student's name and each subject score separately.\n",
    "     - Calculate and print the average score for the student."
   ]
  },
  {
   "cell_type": "code",
   "execution_count": 9,
   "metadata": {},
   "outputs": [
    {
     "name": "stdout",
     "output_type": "stream",
     "text": [
      "Name => Atharv\n",
      "Subject 1 Marks => 90\n",
      "Subject 2 Marks => 92\n",
      "Subject 3 Marks => 93\n",
      "Subject 4 Marks => 94\n",
      "Subject 5 Marks => 95\n",
      "Average Score of Atharv is 92.8\n"
     ]
    }
   ],
   "source": [
    "import math\n",
    "\n",
    "myTup = ('Atharv',90,92,93,94,95)\n",
    "\n",
    "name,sub1,sub2,sub3,sub4,sub5 = myTup\n",
    "\n",
    "\n",
    "print(f'Name => {name}')\n",
    "print(f'Subject 1 Marks => {sub1}')\n",
    "print(f'Subject 2 Marks => {sub2}')\n",
    "print(f'Subject 3 Marks => {sub3}')\n",
    "print(f'Subject 4 Marks => {sub4}')\n",
    "print(f'Subject 5 Marks => {sub5}')\n",
    "\n",
    "# cal avg\n",
    "avg_score = sum([*myTup[1:]])/int(len(myTup) - 1) # first idx is of name\n",
    "print(f'Average Score of {myTup[0]} is {avg_score}')"
   ]
  },
  {
   "cell_type": "markdown",
   "metadata": {},
   "source": [
    "3. WAPP to create a list of tuples, each containing a student's name and their exam scores.\n",
    "     - Sort the list of tuples in ascending order based on the average score (consider using a custom sorting key).\n",
    "     - Print the sorted list of tuples."
   ]
  },
  {
   "cell_type": "code",
   "execution_count": 43,
   "metadata": {},
   "outputs": [
    {
     "name": "stdout",
     "output_type": "stream",
     "text": [
      "[('Student4', 10, 10, 10), ('Student2', 20, 10, 10), ('Student5', 25, 10, 10), ('Student3', 30, 10, 10), ('Student1', 40, 10, 10)]\n"
     ]
    }
   ],
   "source": [
    "def custom_key(tup):\n",
    "    \"\"\"Sorts a tuple of numbers based on avg.\"\"\"\n",
    "    return sum(tup[1:])/int(len(tup[1:]))\n",
    "\n",
    "myTups = [\n",
    "    ('Student2',20,10,10),\n",
    "    ('Student4',10,10,10),\n",
    "    ('Student3',30,10,10),\n",
    "    ('Student1',40,10,10),\n",
    "    ('Student5',25,10,10),\n",
    "]\n",
    "\n",
    "myTups.sort(key=custom_key)\n",
    "# sorting based on the each ele count low - high\n",
    "print(f'Sorted Tuple List based onkey {myTups}')\n",
    "\n"
   ]
  },
  {
   "cell_type": "markdown",
   "metadata": {},
   "source": [
    "4. WAPP to create two tuples containing days of the week (e.g., weekdays and weekends).\n",
    "      - Concatenate the two tuples to create a single tuple representing all days of the week.\n",
    "     - Create a new tuple by repeating one of the original tuples multiple times."
   ]
  },
  {
   "cell_type": "code",
   "execution_count": 48,
   "metadata": {},
   "outputs": [
    {
     "name": "stdout",
     "output_type": "stream",
     "text": [
      "Week => ('Monday', 'Tuesday', 'Wednesday', 'Thursday', 'Friday', 'Saturday', 'Sunday')\n",
      "Week Copy => ('Monday', 'Tuesday', 'Wednesday', 'Thursday', 'Friday', 'Saturday', 'Sunday', 'Monday', 'Tuesday', 'Wednesday', 'Thursday', 'Friday', 'Saturday', 'Sunday')\n"
     ]
    }
   ],
   "source": [
    "import copy\n",
    "\n",
    "weekdays = ('Monday', 'Tuesday', 'Wednesday', 'Thursday', 'Friday')\n",
    "weekends = ('Saturday','Sunday')\n",
    "week = (*weekdays,*weekends)\n",
    "print(f'Week => {week}')\n",
    "\n",
    "\n",
    "# deepcopy of week\n",
    "week_copy = copy.deepcopy(week)\n",
    "week = (*weekdays,*weekends,*week_copy)\n",
    "print(f'Week Copy => {week}')"
   ]
  },
  {
   "cell_type": "markdown",
   "metadata": {},
   "source": [
    "5. Create Python functions that demonstrate tuple packing and unpacking.\n",
    "     - Implement a function that takes multiple arguments and returns them as a tuple (packing).\n",
    "     - Implement a function that receives a tuple as an argument and unpacks it, printing the elements."
   ]
  },
  {
   "cell_type": "code",
   "execution_count": 54,
   "metadata": {},
   "outputs": [
    {
     "name": "stdout",
     "output_type": "stream",
     "text": [
      "Custom Packing Done => ('Atharv', 90, 92, 95, 98)\n",
      "Item Atharv\n",
      "Item 90\n",
      "Item 92\n",
      "Item 95\n",
      "Item 98\n"
     ]
    }
   ],
   "source": [
    "def custom_pack(*tups):\n",
    "    '''packing'''\n",
    "    return tuple(tups)\n",
    "\n",
    "def custom_unpack(tups):\n",
    "    '''upacking'''\n",
    "    for item in tups:\n",
    "        print(f'Item {item}')\n",
    "\n",
    "name,sub1,sub2,sub3,sub4 = 'Atharv',90,92,95,98\n",
    "res = custom_pack(name,sub1,sub2,sub3,sub4)\n",
    "print(f'Custom Packing Done => {res}')\n",
    "\n",
    "custom_unpack(res)"
   ]
  }
 ],
 "metadata": {
  "kernelspec": {
   "display_name": "Python 3",
   "language": "python",
   "name": "python3"
  },
  "language_info": {
   "codemirror_mode": {
    "name": "ipython",
    "version": 3
   },
   "file_extension": ".py",
   "mimetype": "text/x-python",
   "name": "python",
   "nbconvert_exporter": "python",
   "pygments_lexer": "ipython3",
   "version": "3.10.10"
  },
  "orig_nbformat": 4
 },
 "nbformat": 4,
 "nbformat_minor": 2
}
