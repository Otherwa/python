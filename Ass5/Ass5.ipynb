{
 "cells": [
  {
   "cell_type": "markdown",
   "metadata": {},
   "source": [
    "1.     WAPP to Print the multiplication table for a given number."
   ]
  },
  {
   "cell_type": "code",
   "execution_count": 3,
   "metadata": {},
   "outputs": [
    {
     "name": "stdout",
     "output_type": "stream",
     "text": [
      "1024 * 1 = 1024\n",
      "1024 * 2 = 2048\n",
      "1024 * 3 = 3072\n",
      "1024 * 4 = 4096\n",
      "1024 * 5 = 5120\n",
      "1024 * 6 = 6144\n",
      "1024 * 7 = 7168\n",
      "1024 * 8 = 8192\n",
      "1024 * 9 = 9216\n",
      "1024 * 10 = 10240\n"
     ]
    }
   ],
   "source": [
    "myNum = int(input('Enter Number => '))\n",
    "for i in range(1,11):\n",
    "    print(f\"{myNum} * {i} = {i*myNum}\")"
   ]
  },
  {
   "cell_type": "markdown",
   "metadata": {},
   "source": [
    "   WAPP to create a countdown timer using a while loop. You can use sleep method for delay in displaying numbers.\n"
   ]
  },
  {
   "cell_type": "code",
   "execution_count": 5,
   "metadata": {},
   "outputs": [
    {
     "name": "stdout",
     "output_type": "stream",
     "text": [
      "9s Time Remaining,\n",
      "8s Time Remaining,\n",
      "7s Time Remaining,\n",
      "6s Time Remaining,\n",
      "5s Time Remaining,\n",
      "4s Time Remaining,\n",
      "3s Time Remaining,\n",
      "2s Time Remaining,\n",
      "1s Time Remaining,\n",
      "0s Time Remaining,\n"
     ]
    }
   ],
   "source": [
    "from time import sleep\n",
    "myCount = 10;\n",
    "while myCount > 0:\n",
    "    myCount -= 1\n",
    "    print(f\"{myCount}s Time Remaining,\")\n",
    "    sleep(1)\n",
    "print(f\"Time up ⏰\")"
   ]
  },
  {
   "cell_type": "markdown",
   "metadata": {},
   "source": [
    "3.     WAPP to print a simple pattern using nested loops.\n"
   ]
  },
  {
   "cell_type": "code",
   "execution_count": 11,
   "metadata": {},
   "outputs": [
    {
     "name": "stdout",
     "output_type": "stream",
     "text": [
      "\n",
      "\n",
      "*\n",
      "**\n",
      "***\n",
      "****\n",
      "---------------\n",
      "*\n",
      "**\n",
      "***\n",
      "****\n",
      "*****\n"
     ]
    }
   ],
   "source": [
    "for i in range(1,6):\n",
    "    print(f\"\")\n",
    "    for j in range(1,i):\n",
    "        print(f\"*\",end=\"\")\n",
    "        \n",
    "# or\n",
    "print('\\n---------------')\n",
    "for i in range(1,6):\n",
    "    print(f\"*\" * i)"
   ]
  },
  {
   "cell_type": "code",
   "execution_count": 23,
   "metadata": {},
   "outputs": [
    {
     "name": "stdout",
     "output_type": "stream",
     "text": [
      "    *\n",
      "   ***\n",
      "  *****\n",
      " *******\n",
      "*********\n",
      "\n",
      "----------------\n",
      "      *\n",
      "     * *\n",
      "    * * *\n",
      "   * * * *\n",
      "  * * * * *\n"
     ]
    }
   ],
   "source": [
    "n = 5\n",
    "for i in range(1, n + 1):\n",
    "\n",
    "    for j in range(n - i):\n",
    "        print(\" \", end=\"\")\n",
    "    \n",
    "    for k in range(2 * i - 1):\n",
    "        print(\"*\", end=\"\")\n",
    "    \n",
    "    print()\n",
    "# or  \n",
    "print(f'\\n----------------')\n",
    "\n",
    "for i in range(1,6):\n",
    "    print((6-i)*\" \" + \" *\"*i)"
   ]
  },
  {
   "cell_type": "markdown",
   "metadata": {},
   "source": [
    "WAPP to calculate the sum of numbers from 1 to N (e.g., N = 5)"
   ]
  },
  {
   "cell_type": "code",
   "execution_count": 24,
   "metadata": {},
   "outputs": [
    {
     "name": "stdout",
     "output_type": "stream",
     "text": [
      "sum of Nums upto 5 => 15\n"
     ]
    }
   ],
   "source": [
    "sumNum = sum([i for i in range(6)])\n",
    "print(f\"sum of Nums upto 5 => {sumNum}\")"
   ]
  }
 ],
 "metadata": {
  "kernelspec": {
   "display_name": "Python 3",
   "language": "python",
   "name": "python3"
  },
  "language_info": {
   "codemirror_mode": {
    "name": "ipython",
    "version": 3
   },
   "file_extension": ".py",
   "mimetype": "text/x-python",
   "name": "python",
   "nbconvert_exporter": "python",
   "pygments_lexer": "ipython3",
   "version": "3.10.10"
  },
  "orig_nbformat": 4
 },
 "nbformat": 4,
 "nbformat_minor": 2
}
