{
 "cells": [
  {
   "cell_type": "markdown",
   "metadata": {},
   "source": [
    "1. Simple Commands:"
   ]
  },
  {
   "cell_type": "code",
   "execution_count": 41,
   "metadata": {},
   "outputs": [
    {
     "name": "stdout",
     "output_type": "stream",
     "text": [
      "Atharv Desai\n"
     ]
    }
   ],
   "source": [
    "#a) Write a program that prints your name.\n",
    "print(f\"Atharv Desai\")"
   ]
  },
  {
   "cell_type": "code",
   "execution_count": 42,
   "metadata": {},
   "outputs": [
    {
     "name": "stdout",
     "output_type": "stream",
     "text": [
      "Hello, World!\n"
     ]
    }
   ],
   "source": [
    "#b) Create a program that displays \"Hello, World!\" on the screen.\n",
    "print(f\"Hello, World!\")"
   ]
  },
  {
   "cell_type": "code",
   "execution_count": 43,
   "metadata": {},
   "outputs": [
    {
     "name": "stdout",
     "output_type": "stream",
     "text": [
      "21 is your Age\n",
      "Finished\n"
     ]
    }
   ],
   "source": [
    "#c) Write a program that asks the user for their age and then prints it.\n",
    "try:\n",
    "    age = int(input(\"Your Age => : \"))\n",
    "    print(f\"{age} is your Age\")\n",
    "except Exception as e:\n",
    "    print(f\"Exception : {e}\") \n",
    "finally:\n",
    "    print(f\"Finished\")"
   ]
  },
  {
   "cell_type": "code",
   "execution_count": 44,
   "metadata": {},
   "outputs": [
    {
     "name": "stdout",
     "output_type": "stream",
     "text": [
      "25 is the sum of odd numbers from 1-10\n"
     ]
    }
   ],
   "source": [
    "#d) Write a Python program  to add odd numbers from 1-10 \n",
    "total = 0\n",
    "for i in range(1,11,2) : total += i\n",
    "print(f\"{total} is the sum of odd numbers from 1-10\")"
   ]
  },
  {
   "cell_type": "code",
   "execution_count": 45,
   "metadata": {},
   "outputs": [
    {
     "name": "stdout",
     "output_type": "stream",
     "text": [
      "0,1,1,2,3,5,8,13,21,34,55,89,144,233,377,610,987,1597,2584,4181,6765,10946,17711,28657,46368,75025,121393,196418,317811,514229,832040,1346269,2178309,3524578,5702887,9227465,14930352,24157817,39088169,63245986,102334155,165580141,267914296,433494437,701408733,1134903170,1836311903,2971215073,4807526976,7778742049,12586269025,"
     ]
    }
   ],
   "source": [
    "#e) Write a Python program to get the Fibonacci series between 0 to 50\n",
    "ptr1,ptr2 = 0,1\n",
    "print(ptr1,ptr2,sep=\",\",end=',')\n",
    "for i in range(2,51):\n",
    "    print(ptr1+ptr2,end=\",\")\n",
    "    ptr1, ptr2 = ptr2, ptr1 + ptr2"
   ]
  },
  {
   "cell_type": "markdown",
   "metadata": {},
   "source": [
    "2. Mathematical Operators:"
   ]
  },
  {
   "cell_type": "code",
   "execution_count": 46,
   "metadata": {},
   "outputs": [
    {
     "name": "stdout",
     "output_type": "stream",
     "text": [
      "144.0 units is the Area of the Reactangle\n"
     ]
    }
   ],
   "source": [
    "#a) Create a program to calculate the area of a rectangle given its length and width.\n",
    "try:\n",
    "    length = float(input(f\"Reactangle Length => :\"))\n",
    "    breadth = float(input(f\"Reactangle Breadth => :\"))\n",
    "    area = length * breadth\n",
    "    print(f\"{area} units is the Area of the Reactangle\")\n",
    "except Exception as e:\n",
    "    print(f\"Exception : {e}\")"
   ]
  },
  {
   "cell_type": "code",
   "execution_count": 47,
   "metadata": {},
   "outputs": [
    {
     "name": "stdout",
     "output_type": "stream",
     "text": [
      "1002.7024307290001 units is the Volume of the Cube\n"
     ]
    }
   ],
   "source": [
    "#b) Write a program that calculates the volume of a cube using its side length.\n",
    "try:\n",
    "    length = float(input(f\"Cube Length => :\"))\n",
    "    area = length ** 3 \n",
    "    print(f\"{area} units is the Volume of the Cube\")\n",
    "except Exception as e:\n",
    "    print(f\"Exception : {e}\")"
   ]
  },
  {
   "cell_type": "code",
   "execution_count": 48,
   "metadata": {},
   "outputs": [
    {
     "name": "stdout",
     "output_type": "stream",
     "text": [
      "Operation:\n",
      "1. Addition\n",
      "2. Subtraction\n",
      "3. Multiplication\n",
      "4. Division\n",
      "Result: 20.0\n"
     ]
    }
   ],
   "source": [
    "#c) Create a simple calculator program that can perform addition, subtraction, multiplication, and division.\n",
    "def add(x, y):\n",
    "    try:\n",
    "        return x + y\n",
    "    except Exception as e:\n",
    "        return e\n",
    "\n",
    "def subtract(x, y):\n",
    "    try:\n",
    "        return x - y\n",
    "    except Exception as e:\n",
    "        return e\n",
    "        \n",
    "def multiply(x, y):\n",
    "    try:\n",
    "        return x * y\n",
    "    except Exception as e:\n",
    "        return e   \n",
    "\n",
    "def divide(x, y):\n",
    "    try:\n",
    "        return x / y\n",
    "    except Exception as e:\n",
    "        # ZeroDivisionError class return\n",
    "        return e\n",
    "        \n",
    "def invalid_choice():\n",
    "    return \"Invalid\"\n",
    "\n",
    "print(\"Operation:\")\n",
    "print(\"1. Addition\")\n",
    "print(\"2. Subtraction\")\n",
    "print(\"3. Multiplication\")\n",
    "print(\"4. Division\")\n",
    "\n",
    "operation_dict = {\n",
    "    '1': add,\n",
    "    '2': subtract,\n",
    "    '3': multiply,\n",
    "    '4': divide\n",
    "}\n",
    "\n",
    "while True:\n",
    "    try:\n",
    "        choice = input(\"Enter choice 1,2,3,4 : \")\n",
    "        num1 = float(input(\"Enter first number: \"))\n",
    "        num2 = float(input(\"Enter second number: \"))\n",
    "\n",
    "        operation = operation_dict.get(choice, invalid_choice)\n",
    "        result = operation(num1, num2)\n",
    "        print(\"Result:\", result)\n",
    "\n",
    "        retry = input(\"Do you want to perform another calculation? (yes/no): \")\n",
    "        if retry != 'yes':\n",
    "            # exit\n",
    "            break\n",
    "        \n",
    "    except Exception as e:\n",
    "       print(f\"Exception : {e}\")"
   ]
  },
  {
   "cell_type": "markdown",
   "metadata": {},
   "source": [
    "3. Range"
   ]
  },
  {
   "cell_type": "code",
   "execution_count": 49,
   "metadata": {},
   "outputs": [
    {
     "name": "stdout",
     "output_type": "stream",
     "text": [
      "0,2,4,6,8,10,12,14,16,18,20,22,24,26,28,30,32,34,36,38,40,42,44,46,48,50,"
     ]
    }
   ],
   "source": [
    "#a) Write a program that prints all even numbers between 1 and 50.\n",
    "for i in range(0,51,2):\n",
    "    print(f\"{i}\",end=\",\")"
   ]
  },
  {
   "cell_type": "code",
   "execution_count": 50,
   "metadata": {},
   "outputs": [
    {
     "name": "stdout",
     "output_type": "stream",
     "text": [
      "[2, 4, 6, 8, 10, 12, 14, 16, 18, 20]\n"
     ]
    }
   ],
   "source": [
    "#b) Create a program that generates a list of squares of numbers from 1 to 10 using a loop.\n",
    "vals=[]\n",
    "for i in range(1,11):\n",
    "    vals.append(i*2)\n",
    "\n",
    "# prints list\n",
    "print(vals)"
   ]
  },
  {
   "cell_type": "code",
   "execution_count": 51,
   "metadata": {},
   "outputs": [
    {
     "name": "stdout",
     "output_type": "stream",
     "text": [
      "Sum of Nums is 5050\n"
     ]
    }
   ],
   "source": [
    "#c) Write a program to calculate the sum of all numbers between 1 and 100.\n",
    "'''\n",
    "Ez\n",
    "res = sum([i for i in range(101)]) \n",
    "print(res)\n",
    "'''\n",
    "result = 0\n",
    "for i in range(1, 101):\n",
    "    result += i \n",
    "print(f\"Sum of Nums is {result}\")"
   ]
  }
 ],
 "metadata": {
  "kernelspec": {
   "display_name": "Python 3",
   "language": "python",
   "name": "python3"
  },
  "language_info": {
   "codemirror_mode": {
    "name": "ipython",
    "version": 3
   },
   "file_extension": ".py",
   "mimetype": "text/x-python",
   "name": "python",
   "nbconvert_exporter": "python",
   "pygments_lexer": "ipython3",
   "version": "3.10.10"
  },
  "orig_nbformat": 4
 },
 "nbformat": 4,
 "nbformat_minor": 2
}
