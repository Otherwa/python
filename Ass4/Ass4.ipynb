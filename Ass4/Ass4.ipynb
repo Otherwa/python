{
 "cells": [
  {
   "cell_type": "markdown",
   "metadata": {},
   "source": [
    "WAPP to determine the grade based on a user's input score. Give the grades starts from First class with Distinction to Fail as per the score percentage."
   ]
  },
  {
   "cell_type": "code",
   "execution_count": 9,
   "metadata": {},
   "outputs": [
    {
     "name": "stdout",
     "output_type": "stream",
     "text": [
      "Your Grade is F\n"
     ]
    }
   ],
   "source": [
    "stuScore = int(input(\"Enter your Score => \"))\n",
    "grades = {85:'A',75:'B',65:'C',65:'D',55:'E',45:'F'}\n",
    "# reverse this\n",
    "for score in sorted(grades.keys(), reverse=True):\n",
    "    if stuScore >= score:\n",
    "        print(\"Your Grade is\", grades[score])\n",
    "        break  \n"
   ]
  },
  {
   "cell_type": "markdown",
   "metadata": {},
   "source": [
    "WAPP for number comparison. Get two numbers from the users and compare the numbers and display the result. Result could be Like greater than, less than or equal numbers."
   ]
  },
  {
   "cell_type": "code",
   "execution_count": 10,
   "metadata": {},
   "outputs": [
    {
     "name": "stdout",
     "output_type": "stream",
     "text": [
      "3 is greater than 2 by 1\n"
     ]
    }
   ],
   "source": [
    "num1, num2 = int(input(f\"Enter Number 1 => \")), int(input(f\"Enter Number 2 => \"))\n",
    "if num1 == num2:\n",
    "    print(f\"Numbers are Same\")\n",
    "elif num1 > num2:\n",
    "    print(f\"{num1} is greater than {num2} by {num1-num2}\")\n",
    "else:\n",
    "    print(f\"{num2} is greater than {num1} by {num2-num1}\")"
   ]
  },
  {
   "cell_type": "markdown",
   "metadata": {},
   "source": [
    "WAPP to check for leap year. Take year as an input from the user and depending on the input display appropriate message."
   ]
  },
  {
   "cell_type": "code",
   "execution_count": 11,
   "metadata": {},
   "outputs": [
    {
     "name": "stdout",
     "output_type": "stream",
     "text": [
      "The Current Year is Leap Year\n"
     ]
    }
   ],
   "source": [
    "cur_year = int(input(f\"Enter the Current Year => \"))\n",
    "print(f\"The Current Year is Leap Year\") if cur_year % 4 == 0 else print(\n",
    "    f\"The Current Year is Not Leap Year\"\n",
    ")"
   ]
  },
  {
   "cell_type": "markdown",
   "metadata": {},
   "source": [
    " WAPP for age classifier.\n",
    "·       If the age is less than zero, then display the message as Invalid age.\n",
    "·       If the age in between zero to 18 then Minor\n",
    "·       If the age is in between 18 to 65 then Adult\n",
    "·       If the age is above 65 then Senior Citizen."
   ]
  },
  {
   "cell_type": "code",
   "execution_count": 12,
   "metadata": {},
   "outputs": [
    {
     "name": "stdout",
     "output_type": "stream",
     "text": [
      "You belong to Adult\n"
     ]
    }
   ],
   "source": [
    "# Classify Age\n",
    "#  < 0  Invalid\n",
    "#  < 18  Minor\n",
    "#  < 65  Adult\n",
    "#  else Senor Citizen\n",
    "\n",
    "# Age Group Classifier\n",
    "age = int(input(f\"Enter Age = > \"))\n",
    "\n",
    "if age < 0:\n",
    "    print(f\"Invalid\")\n",
    "if 0 < age and age < 18:\n",
    "    print(f\"You Belong to Minor\")\n",
    "elif 18 < age and age < 65:\n",
    "    print(f\"You belong to Adult\")\n",
    "else:\n",
    "    print(f\"You belong Senior Citizen\")"
   ]
  },
  {
   "cell_type": "markdown",
   "metadata": {},
   "source": [
    "WAPP to create a basic grading system for multiple subjects. It calculates the average grade and provides a final grade based on the average score. If students got less the 35 marks in any of the subjects, then the overall result will be FAIL."
   ]
  },
  {
   "cell_type": "code",
   "execution_count": 16,
   "metadata": {},
   "outputs": [
    {
     "name": "stdout",
     "output_type": "stream",
     "text": [
      "\n",
      "          |------------------------------------------------|\n",
      "                   Passing Certificate - Atharv - 21     \n",
      "          |------------------------------------------------|\n",
      "          | Subj 1  | 98 | A  |\n",
      "          | Subj 2  | 96 | A  |\n",
      "          | Subj 4  | 98 | A  |\n",
      "          | Subj 3  | 97 | A  |\n",
      "          | Subj 5  | 95 | A  |\n",
      "          |------------------------------------------------|\n",
      "           Grade :                   A-96.8                                          \n",
      "          |-------------------------------------------------|\n",
      "    \n"
     ]
    }
   ],
   "source": [
    "# age\n",
    "# name\n",
    "# subject 5 defined  out of 100\n",
    "\n",
    "# nested if else greater than 35 if fail in in one overall fail\n",
    "\n",
    "# set grade for total marks\n",
    "\n",
    "\n",
    "# find total save to total\n",
    "# cal percent save to var\n",
    "\n",
    "\n",
    "# disply in an marks sheet\n",
    "def genrateMarksheet(age, name, percent, subjectsMarks):\n",
    "    passFlag = True\n",
    "    subgrades = []\n",
    "    grade = None\n",
    "    # check if stu is faild in one sub or not\n",
    "    # O(N)\n",
    "    for mark in subjectsMarks:\n",
    "        if mark >= 85:\n",
    "            subgrades.append(\"A\")\n",
    "        elif mark > 75 and mark <= 85:\n",
    "            subgrades.append(\"B\")\n",
    "        elif mark > 65 and mark <= 75:\n",
    "            subgrades.append(\"C\")\n",
    "        elif mark > 65 and mark <= 55:\n",
    "            subgrades.append(\"D\")\n",
    "        elif mark >= 45 and mark <= 65:\n",
    "            subgrades.append(\"E\")\n",
    "        elif mark < 35:\n",
    "            subgrades.append(\"F\")\n",
    "            passFlag = False\n",
    "\n",
    "    # O(N)\n",
    "    # cal total percent\n",
    "    if percent <= 35:\n",
    "        grade = \"F\"\n",
    "    elif percent <= 44:\n",
    "        grade = \"E\"\n",
    "    elif percent <= 55:\n",
    "        grade = \"D\"\n",
    "    elif percent <= 65:\n",
    "        grade = \"C\"\n",
    "    elif percent <= 75:\n",
    "        grade = \"B\"\n",
    "    else:\n",
    "        grade = \"A\"\n",
    "\n",
    "    # change the toatal grade to F\n",
    "    if not passFlag:\n",
    "        grade = \"F\"\n",
    "\n",
    "    card = f\"\"\"\n",
    "          |------------------------------------------------|\n",
    "                   Passing Certificate - {name} - {age}     \n",
    "          |------------------------------------------------|\n",
    "          | Subj 1  | {subjectsMarks[0]} | {subgrades[0]}  |\n",
    "          | Subj 2  | {subjectsMarks[1]} | {subgrades[1]}  |\n",
    "          | Subj 4  | {subjectsMarks[3]} | {subgrades[3]}  |\n",
    "          | Subj 3  | {subjectsMarks[2]} | {subgrades[2]}  |\n",
    "          | Subj 5  | {subjectsMarks[4]} | {subgrades[4]}  |\n",
    "          |------------------------------------------------|\n",
    "           Grade :                   {grade}-{percent}                                          \n",
    "          |-------------------------------------------------|\n",
    "    \"\"\"\n",
    "    print(card)\n",
    "\n",
    "age, name, subjectsMarks = (\n",
    "    input(f\"Enter Age => \"),\n",
    "    input(f\"Enter Name => \"),\n",
    "    input(f\"Enter Subject Marks (sep by ',' 5 Subject Max) => \").split(\",\")[:6],\n",
    ")\n",
    "subjectsMarks = [*map(lambda x: int(x), subjectsMarks)]\n",
    "total = sum([*map(lambda x: int(x), subjectsMarks)])\n",
    "percent = float((total / 500) * 100)\n",
    "genrateMarksheet(age, name, percent, subjectsMarks)\n",
    "\n"
   ]
  }
 ],
 "metadata": {
  "kernelspec": {
   "display_name": "Python 3",
   "language": "python",
   "name": "python3"
  },
  "language_info": {
   "codemirror_mode": {
    "name": "ipython",
    "version": 3
   },
   "file_extension": ".py",
   "mimetype": "text/x-python",
   "name": "python",
   "nbconvert_exporter": "python",
   "pygments_lexer": "ipython3",
   "version": "3.10.10"
  },
  "orig_nbformat": 4
 },
 "nbformat": 4,
 "nbformat_minor": 2
}
