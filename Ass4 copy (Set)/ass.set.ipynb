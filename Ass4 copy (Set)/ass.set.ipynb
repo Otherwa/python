{
 "cells": [
  {
   "cell_type": "markdown",
   "metadata": {},
   "source": [
    "1. Write a Python program to find and print the unique elements in a given list.\n",
    "     - Create a list that contains duplicate elements.\n",
    "     - Use a set to identify and print the unique elements from the list."
   ]
  },
  {
   "cell_type": "code",
   "execution_count": 10,
   "metadata": {},
   "outputs": [
    {
     "name": "stdout",
     "output_type": "stream",
     "text": [
      "Unique Ele are => {0, 1, 2, 4, 7, 9, 10, 11, 12, 13, 14, 15, 18, 19, 20, 21, 22, 23, 24, 26, 27, 28, 30, 32, 33, 34, 35, 39, 41, 42, 44, 45, 46, 47, 49, 51, 52, 55, 57, 58, 59, 60, 61, 67, 68, 69, 70, 71, 73, 74, 75, 76, 77, 78, 81, 82, 83, 84, 85, 86, 87, 88, 91, 92, 97}\n"
     ]
    }
   ],
   "source": [
    "import random,math\n",
    "\n",
    "myList = [math.floor(random.random() * 100) for i in range(101)]\n",
    "mySet = { * myList}\n",
    "print(f\"Unique Ele are => {mySet}\")"
   ]
  },
  {
   "cell_type": "markdown",
   "metadata": {},
   "source": [
    "2. WAPP for Set Operations with Two Sets: Consider two sets of numbers.\n",
    "     - Calculate and print the union of the two sets.\n",
    "     - Calculate and print the intersection of the two sets.\n",
    "     - Calculate and print the symmetric difference between the two sets"
   ]
  },
  {
   "cell_type": "code",
   "execution_count": 30,
   "metadata": {},
   "outputs": [
    {
     "name": "stdout",
     "output_type": "stream",
     "text": [
      "Union of set is {3, 68, 4, 7, 72, 9, 11, 77, 14, 16, 17, 82, 21, 87, 24, 25, 90, 89, 26, 93, 97, 100, 37, 41, 43, 46, 50, 51, 56, 57, 61}\n",
      "Interscetion of set is {97, 3, 68, 43, 24}\n",
      "Sym Diff of set1 is {4, 7, 72, 9, 11, 77, 14, 16, 17, 82, 21, 87, 89, 26, 90, 25, 93, 100, 37, 41, 46, 50, 51, 56, 57, 61}\n",
      "Sym Diff of set2 is {4, 7, 72, 9, 11, 77, 14, 16, 17, 82, 21, 87, 25, 90, 89, 26, 93, 100, 37, 41, 46, 50, 51, 56, 57, 61}\n"
     ]
    }
   ],
   "source": [
    "import random,math\n",
    "\n",
    "# random.seed(20)\n",
    "\n",
    "mySet1 = {math.floor(random.random() * 100) for i in range(21)}\n",
    "mySet2 = {random.randint(1,100) for i in range(21)}\n",
    "\n",
    "# union of sets\n",
    "setUnion = mySet1.union(mySet2) # or set1 + set2\n",
    "print(f\"Union of set is {setUnion}\")\n",
    "\n",
    "# intersction of two sets\n",
    "setIntersection = mySet1.intersection(mySet2)\n",
    "print(f\"Interscetion of set is {setIntersection}\")\n",
    "\n",
    "# Calculate and print the symmetric difference between the two sets.\n",
    "set1SymmetricDiff = mySet1.symmetric_difference(mySet2)\n",
    "print(f\"Sym Diff of set1 is {set1SymmetricDiff}\")\n",
    "\n",
    "# Calculate and print the symmetric difference between the two sets.\n",
    "set2SymmetricDiff = mySet2.symmetric_difference(mySet1)\n",
    "print(f\"Sym Diff of set2 is {set2SymmetricDiff}\")"
   ]
  },
  {
   "cell_type": "markdown",
   "metadata": {},
   "source": [
    "3. WAPP to Create two lists of items for books in two libraries and identify common books present in both the libraries.\n",
    "    -  Use sets to identify common books and create a new set.\n",
    "    - Print the set of common items.\n"
   ]
  },
  {
   "cell_type": "code",
   "execution_count": 35,
   "metadata": {},
   "outputs": [
    {
     "name": "stdout",
     "output_type": "stream",
     "text": [
      "Common books in both set are => {'Book3', 'Book7', 'Book6', 'Book5'}\n",
      "Books are => Book3\n",
      "Books are => Book7\n",
      "Books are => Book6\n",
      "Books are => Book5\n"
     ]
    }
   ],
   "source": [
    "lib1 = {\"Book1\",\"Book2\",\"Book3\",\"Book4\",\"Book5\",\"Book6\",\"Book7\"}\n",
    "lib2 = {\"Book3\",\"Book5\",\"Book6\",\"Book7\",\"Book8\",\"Book9\"}\n",
    "\n",
    "libIntersection = lib1.intersection(lib2)\n",
    "print(f'Common books in both set are => {libIntersection}')\n",
    "for book in libIntersection:\n",
    "    print(f'Books are => {book}')"
   ]
  },
  {
   "cell_type": "markdown",
   "metadata": {},
   "source": [
    "WAPP to create a set of unique words in the text, removing punctuation and converting all words to lowercase"
   ]
  },
  {
   "cell_type": "code",
   "execution_count": 67,
   "metadata": {},
   "outputs": [
    {
     "name": "stdout",
     "output_type": "stream",
     "text": [
      "Uniqu Words Set => {'remaining', 'also', 'type', 'pagemaker', 'more', 'into', 'five', 'aldus', 'software', 'unknown', 'make', 'but', 'was', '1960s', 'took', 'passages', 'letraset', 'when', 'including', 'versions', 'a', 'survived', 'with', 'like', 'been', 'has', 'galley', 'printing', 'and', 'industry', 'essentially', 'it', 'desktop', 'text', 'in', 'only', 'industrys', 'not', 'of', 'centuries', 'the', 'standard', 'publishing', 'to', 'an', 'containing', 'leap', 'dummy', 'electronic', 'simply', 'book', 'scrambled', 'popularised', 'unchanged', 'printer', 'lorem', 'since', 'specimen', 'is', 'release', 'recently', 'sheets', '1500s', 'ever', 'ipsum', 'typesetting'}\n"
     ]
    }
   ],
   "source": [
    "def remove_punctuation(text):\n",
    "    punctuation = \"!\\\"#$%&'()*+,-./:;<=>?@[\\\\]^_`{|}~\"\n",
    "    result = \"\"\n",
    "    # Iterate through the input text and only add non-punctuation characters to the result\n",
    "    for char in text:\n",
    "        if char not in punctuation:\n",
    "            result += char\n",
    "    return result.lower()\n",
    "\n",
    "\n",
    "myText = remove_punctuation(input(\"Enter Text => \")).split()\n",
    "myUniquewords = set(myText)\n",
    "print(f\"Uniqu Words Set => {myUniquewords}\")"
   ]
  }
 ],
 "metadata": {
  "kernelspec": {
   "display_name": "Python 3",
   "language": "python",
   "name": "python3"
  },
  "language_info": {
   "codemirror_mode": {
    "name": "ipython",
    "version": 3
   },
   "file_extension": ".py",
   "mimetype": "text/x-python",
   "name": "python",
   "nbconvert_exporter": "python",
   "pygments_lexer": "ipython3",
   "version": "3.10.10"
  },
  "orig_nbformat": 4
 },
 "nbformat": 4,
 "nbformat_minor": 2
}
