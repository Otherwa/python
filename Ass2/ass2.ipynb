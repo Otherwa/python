{
 "cells": [
  {
   "cell_type": "markdown",
   "metadata": {},
   "source": [
    "1. Create a Python program that performs basic list operations.\n",
    "    - Create an empty list.\n",
    "     - Add three different types of elements to the list (e.g., integers, strings, and floats).\n",
    "      - Print the list.\n",
    "     - Remove one element from the list.\n",
    "     - Print the modified list. \n"
   ]
  },
  {
   "cell_type": "code",
   "execution_count": 2,
   "metadata": {},
   "outputs": [
    {
     "name": "stdout",
     "output_type": "stream",
     "text": [
      "myList => [2, 69.42, 'LOL', 'KYS']\n",
      "myList  after Removing => [69.42, 'LOL', 'KYS']\n"
     ]
    }
   ],
   "source": [
    "# list with 3 diffrent types\n",
    "myList = [2,69.420,'LOL','KYS']\n",
    "\n",
    "# print List\n",
    "print(f'myList => {myList}')\n",
    "\n",
    "# Removing one ele from list\n",
    "myList.remove(2)\n",
    "print(f'myList  after Removing => {myList}')\n"
   ]
  },
  {
   "cell_type": "markdown",
   "metadata": {},
   "source": [
    "2. WAPP for list indexing and slicing in Python.\n",
    "     - Create a list of numbers from 1 to 10.\n",
    "     - Print the first and last elements of the list.\n",
    "     - Print a slice of the list containing elements from index 3 to 7.\n",
    "     - Modify the list to replace the elements from index 5 to 9 with even numbers (e.g., 10, 12, 14, ...).\n",
    "     - Print the modified list.\n"
   ]
  },
  {
   "cell_type": "code",
   "execution_count": 8,
   "metadata": {},
   "outputs": [
    {
     "name": "stdout",
     "output_type": "stream",
     "text": [
      "myList => [1, 2, 3, 4, 5, 6, 7, 8, 9, 10]\n",
      "myList last ele => 10\n",
      "myList 3-7 indx => [4, 5, 6, 7]\n",
      "myList Modified => [1, 2, 3, 4, 5, 10, 12, 14, 10]\n"
     ]
    }
   ],
   "source": [
    "# list from 1 to 10\n",
    "myList = [ele for ele in range(1,11)]\n",
    "\n",
    "print(f'myList => {myList}')\n",
    "\n",
    "# prin last ele of list\n",
    "print(f'myList last ele => {myList[-1]}')\n",
    "\n",
    "# spliced list from indx 3 - 7\n",
    "print(f'myList 3-7 indx => {myList[3:7]}')\n",
    "\n",
    "# modify all the ele from indx 5 - 9 with even numbers\n",
    "myList[5:9] = [i for i in range(10,15,2)]\n",
    "print(f'myList Modified => {myList}')"
   ]
  },
  {
   "cell_type": "markdown",
   "metadata": {},
   "source": [
    "3. WAPP to count occurrences of all the elements present in the list.\n",
    "     - Provide a list.\n",
    "     - Print all the elements of the list with their counts.\n",
    "     - Print the list.\n"
   ]
  },
  {
   "cell_type": "code",
   "execution_count": 28,
   "metadata": {},
   "outputs": [
    {
     "name": "stdout",
     "output_type": "stream",
     "text": [
      "myList => [1, 8, 3, 1, 7, 7, 1, 4, 10, 1, 8, 2, 4, 5, 2, 10, 3, 2, 2, 3]\n",
      "1 occurs 4\n",
      "2 occurs 4\n",
      "3 occurs 3\n",
      "4 occurs 2\n",
      "5 occurs 1\n",
      "7 occurs 2\n",
      "8 occurs 2\n",
      "10 occurs 2\n"
     ]
    }
   ],
   "source": [
    "import random, math\n",
    "random.seed(420)\n",
    "\n",
    "myList = [math.ceil(random.random() * 10) for i in range(1,21)]\n",
    "myList_items = {* myList}\n",
    "\n",
    "print(f\"myList => {myList}\")\n",
    "for ele in myList_items:\n",
    "    print(f\"{ele} occurs {myList.count(ele)}\")\n"
   ]
  },
  {
   "cell_type": "markdown",
   "metadata": {},
   "source": [
    "4. WAPP for List Sorting and Reversing list\n",
    "     - Create a list of unsorted numbers.\n",
    "     - Sort the list in ascending order.\n",
    "     - Reverse the sorted list.\n",
    "     - Print the reversed list.\n"
   ]
  },
  {
   "cell_type": "code",
   "execution_count": 36,
   "metadata": {},
   "outputs": [
    {
     "name": "stdout",
     "output_type": "stream",
     "text": [
      "myList => [3, 79, 28, 10, 67, 66, 4, 33, 100, 2, 78, 13, 34, 44, 13, 92, 28, 15, 11, 27, 19, 67, 25, 1, 98, 80, 95, 52, 68, 72, 91, 97, 51, 59, 30, 53, 81, 75, 43, 3, 69, 20, 79, 19, 67, 67, 56, 49, 13, 5]\n",
      "myList after sorting ascending => [1, 2, 3, 4, 5, 10, 11, 13, 15, 19, 20, 25, 27, 28, 30, 33, 34, 43, 44, 49, 51, 52, 53, 56, 59, 66, 67, 68, 69, 72, 75, 78, 79, 80, 81, 91, 92, 95, 97, 98, 100]\n",
      "myList after sorting ascending and reversing => [100, 98, 97, 95, 92, 91, 81, 80, 79, 78, 75, 72, 69, 68, 67, 66, 59, 56, 53, 52, 51, 49, 44, 43, 34, 33, 30, 28, 27, 25, 20, 19, 15, 13, 11, 10, 5, 4, 3, 2, 1]\n"
     ]
    }
   ],
   "source": [
    "import random, math\n",
    "random.seed(420)\n",
    "myList = [math.ceil(random.random() * 100) for i in range(1,51)]\n",
    "print(f'myList => {myList}')\n",
    "\n",
    "# asc sort\n",
    "myList.sort()\n",
    "myList = [*{*myList}]\n",
    "print(f'myList after sorting ascending => {myList}')\n",
    "\n",
    "# reversing\n",
    "myList = myList[::-1]\n",
    "print(f'myList after sorting ascending and reversing => {myList}')"
   ]
  },
  {
   "cell_type": "markdown",
   "metadata": {},
   "source": [
    "5. WAPP to demonstrate list concatenation in Python.\n",
    "     - Provide two lists of names (e.g., boys names and girls names).\n",
    "     - concatenate the two lists to create a combined list of names.\n",
    "     - Print the combined list.\n"
   ]
  },
  {
   "cell_type": "code",
   "execution_count": 65,
   "metadata": {},
   "outputs": [
    {
     "name": "stdout",
     "output_type": "stream",
     "text": [
      "Combined list => ['Shubavrat', 'Swaraj', 'Atharv', 'Pratham', 'Girl1', 'Girl2', 'Girl3', 'Girl4']\n"
     ]
    }
   ],
   "source": [
    "boysList = ['Shubavrat','Swaraj','Atharv','Pratham']\n",
    "girlsList = ['Girl1','Girl2','Girl3','Girl4']\n",
    "# .append() or .extend() works 👍\n",
    "combList = boysList + girlsList \n",
    "print(f'Combined list => {combList}')"
   ]
  }
 ],
 "metadata": {
  "kernelspec": {
   "display_name": "Python 3",
   "language": "python",
   "name": "python3"
  },
  "language_info": {
   "codemirror_mode": {
    "name": "ipython",
    "version": 3
   },
   "file_extension": ".py",
   "mimetype": "text/x-python",
   "name": "python",
   "nbconvert_exporter": "python",
   "pygments_lexer": "ipython3",
   "version": "3.10.10"
  },
  "orig_nbformat": 4
 },
 "nbformat": 4,
 "nbformat_minor": 2
}
